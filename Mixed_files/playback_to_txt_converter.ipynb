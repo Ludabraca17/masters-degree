{
 "cells": [
  {
   "cell_type": "code",
   "execution_count": null,
   "metadata": {},
   "outputs": [],
   "source": [
    "#Converts file saved from Dobot Studio to txt file. The file contains array-like structure of points previously programmed in Dobot Studio. \n",
    "#Remove the last comma before running the python script with this data. \n",
    "#You need two directories (input and output directories) that only contain the playback style files. \n",
    "#The rows do not contain the information about joint or linear movements that are available in Dobot Studio interface.\n",
    "\n",
    "import os\n",
    "import xml.etree.ElementTree as ET\n",
    "\n",
    "def xml_to_text(input_directory, output_directory):\n",
    "    # Ensure the output directory exists\n",
    "    os.makedirs(output_directory, exist_ok=True)\n",
    "\n",
    "    # Iterate over all files in the input directory\n",
    "    for filename in os.listdir(input_directory):\n",
    "        if filename.endswith('.playback'):\n",
    "            # Construct full file path for input\n",
    "            xml_file_path = os.path.join(input_directory, filename)\n",
    "\n",
    "            # Parse the XML file\n",
    "            tree = ET.parse(xml_file_path)\n",
    "            root = tree.getroot()\n",
    "\n",
    "            # Extract relevant data\n",
    "            data_rows = []\n",
    "            for row in root.findall('./*'):\n",
    "                if row.tag.startswith('row'):\n",
    "                    items = [item.text for item in row if item.text is not None]\n",
    "                    # Convert items to float where possible, starting from the first item\n",
    "                    items = [float(item) if '.' in item else int(item) for item in items[1:7]]\n",
    "                    data_rows.append(items)\n",
    "\n",
    "            # Prepare the data as a formatted string\n",
    "            formatted_data = \"Dobot Playback Data:\\n\"\n",
    "            formatted_data += f\"Type: {root.find('.//DobotType/item_0').text}\\n\"\n",
    "            formatted_data += f\"Studio Version: {root.find('.//row_StudioVersion/item_0').text}\\n\\n\"\n",
    "\n",
    "            formatted_data += \"Row Data:\\n\"\n",
    "            for row in data_rows:\n",
    "                formatted_data += f\"{row},\\n\"\n",
    "\n",
    "            # Define the output file path in the output directory\n",
    "            output_file_path = os.path.join(output_directory, f\"{os.path.splitext(filename)[0]}.txt\")\n",
    "\n",
    "            # Save to a text file\n",
    "            with open(output_file_path, 'w') as file:\n",
    "                file.write(formatted_data)\n",
    "\n",
    "# Example usage\n",
    "input_directory = 'C:/Users/ivana/Desktop/Faks/Magistrska naloga/dobot_train_points/xml_format'\n",
    "output_directory = 'C:/Users/ivana/Desktop/Faks/Magistrska naloga/dobot_train_points/txt_format'\n",
    "xml_to_text(input_directory, output_directory)\n"
   ]
  },
  {
   "cell_type": "code",
   "execution_count": null,
   "metadata": {},
   "outputs": [],
   "source": []
  }
 ],
 "metadata": {
  "kernelspec": {
   "display_name": "venv",
   "language": "python",
   "name": "python3"
  },
  "language_info": {
   "codemirror_mode": {
    "name": "ipython",
    "version": 3
   },
   "file_extension": ".py",
   "mimetype": "text/x-python",
   "name": "python",
   "nbconvert_exporter": "python",
   "pygments_lexer": "ipython3",
   "version": "3.8.11"
  }
 },
 "nbformat": 4,
 "nbformat_minor": 2
}
